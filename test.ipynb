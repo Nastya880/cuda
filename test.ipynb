{
  "nbformat": 4,
  "nbformat_minor": 0,
  "metadata": {
    "colab": {
      "name": "cudaBlur.ipynb",
      "private_outputs": true,
      "provenance": [],
      "include_colab_link": true
    },
    "kernelspec": {
      "name": "python3",
      "display_name": "Python 3"
    },
    "language_info": {
      "name": "python"
    },
    "accelerator": "GPU",
    "gpuClass": "standard"
  },
  "cells": [
    {
      "cell_type": "markdown",
      "metadata": {
        "id": "view-in-github",
        "colab_type": "text"
      },
      "source": [
        "<a href=\"https://colab.research.google.com/github/Nastya880/cuda/blob/main/test.ipynb\" target=\"_parent\"><img src=\"https://colab.research.google.com/assets/colab-badge.svg\" alt=\"Open In Colab\"/></a>"
      ]
    },
    {
      "cell_type": "markdown",
      "metadata": {
        "id": "3h5ZLJeKDnIM"
      },
      "source": [
        "This notebook will set up colab so that you can run the CUDA blur lab for the module \"Introduction to CUDA programming\" created by the TOUCH project.  (https://github.com/TeachingUndergradsCHC/modules/tree/master/Programming/cuda).  The initial setup instructions are based on those by an online post by Andrei Nechaev (https://medium.com/@iphoenix179/running-cuda-c-c-in-jupyter-or-how-to-run-nvcc-in-google-colab-663d33f53772).\n",
        "\n",
        "Begin by setting your runtime to use a GPU (Select \"Change runtime type\" in the Runtime menu and choose \"GPU\".)  Then run the first couple of instructions below.  Run them one at a time, waiting for each to finish before beginning the next."
      ]
    },
    {
      "cell_type": "code",
      "metadata": {
        "id": "VHJlc5jODlIG"
      },
      "source": [
        "!git config --global url.\"https://github.com/\".insteadOf git://github.com/\n",
        "!pip install git+git://github.com/andreinechaev/nvcc4jupyter.git\n",
        "%load_ext nvcc_plugin"
      ],
      "execution_count": null,
      "outputs": []
    },
    {
      "cell_type": "code",
      "metadata": {
        "id": "FavSJfZAFIc_"
      },
      "source": [
        "!sudo ln -s /usr/bin/gcc-5 /usr/local/cuda/bin/gcc\n",
        "!sudo ln -s /usr/bin/g++-5 /usr/local/cuda/bin/g++"
      ],
      "execution_count": null,
      "outputs": []
    },
    {
      "cell_type": "markdown",
      "metadata": {
        "id": "bp2Xz4O2FPqW"
      },
      "source": [
        "Now you can run CUDA program by preceeding their code with %%cu.  The next cell is an example, a version of \"Hello World\" for CUDA.  Running it is optional, but useful since doing so will show that the installation was successful. "
      ]
    },
    {
      "cell_type": "code",
      "metadata": {
        "id": "BxX8ypeTFozH"
      },
      "source": [
        "%%cu\n",
        "#include <stdio.h>\n",
        " \n",
        "__global__ void hello() {\n",
        "   int id = threadIdx.x + blockIdx.x * blockDim.x;\n",
        "   printf(\"Hello from thread %d (%d of block %d)\\n\", id, threadIdx.x, blockIdx.x);\n",
        "}\n",
        "\n",
        "int main() {\n",
        "   hello<<<5,4>>>();  //launch 5 blocks of 4 threads each\n",
        " \n",
        "   cudaDeviceSynchronize();  //make sure kernel completes\n",
        "}"
      ],
      "execution_count": null,
      "outputs": []
    },
    {
      "cell_type": "markdown",
      "metadata": {
        "id": "Epta_l7pK6Tl"
      },
      "source": [
        "Next, upload the files that you'll need for the blur project.  These are the library code for managing ppm files (ppmFile.h and ppmFile.c) and the image that you'll be using (I provide 640x426.ppm, but you could use another file instead).  You can download these from the repository and then upload them by selecting the folder icon to the left of the code and then the file with an upward arrow.\n",
        "\n",
        "After that, you're able to run the initial version of the program (below).  Refer to the lab handout for further instructions."
      ]
    },
    {
      "cell_type": "code",
      "metadata": {
        "id": "cVa7IRbwLv25"
      },
      "source": [
        "%%cu\n",
        "#include <cstdio>\n",
        "#include <cuda_runtime.h>\n",
        "#include <chrono>\n",
        "int main (int argc, char * argv [] )\n",
        "{\n",
        "    int deviceCount;\n",
        "    cudaDeviceProp devProp{};\n",
        "    cudaGetDeviceCount ( &deviceCount );\n",
        "    printf ( \"Found %d devices\\n\", deviceCount );\n",
        "    for ( int device = 0; device < deviceCount; device++)\n",
        "    {cudaGetDeviceProperties ( &devProp, device );\n",
        "        printf (\"Device %d\\n\", device );\n",
        "        printf (\"Compute capability : %d.%d\\n\", devProp.major, devProp.minor);\n",
        "        printf (\"Name : %s\\n\", devProp.name);\n",
        "        // Полный объем глобальной памяти в Mбайтах:\n",
        "        printf (\"Total Global Mem: %lu\\n\", (devProp.totalGlobalMem/(1024*1024)));\n",
        "        printf (\"Shared memory per block: %zu\\n\" , devProp.sharedMemPerBlock );\n",
        "        printf (\"Registers per block : %d\\n\", devProp.regsPerBlock);\n",
        "        printf (\"Warp size : %d\\n\", devProp.warpSize);\n",
        "        printf (\"Max threads per block: %d\\n\", devProp.maxThreadsPerBlock);\n",
        "        printf (\"Total constant memory: %zu\\n\", devProp.totalConstMem);\n",
        "        printf (\"Clock Rate : %d\\n\", devProp.clockRate);\n",
        "        printf (\"Texture Alignment : %zu\\n\", devProp.textureAlignment);\n",
        "        printf (\"Device Overlap : %d\\n\", devProp.deviceOverlap);\n",
        "        printf (\"Multiprocessor Count: %d\\n\", devProp.multiProcessorCount);\n",
        "        printf (\"Max Threads Dim : %d %d %d\\n\", devProp.maxThreadsDim[0],\n",
        "                devProp.maxThreadsDim[1], devProp.maxThreadsDim[2] );\n",
        "        printf (\"Max Grid Size : %d %d %d\\n\", devProp.maxGridSize [0],\n",
        "                devProp.maxGridSize [1], devProp.maxGridSize [2]);\n",
        "        printf(\"\");\n",
        "    }\n",
        "    return 0;\n",
        "}"
      ],
      "execution_count": null,
      "outputs": []
    }
  ]
}
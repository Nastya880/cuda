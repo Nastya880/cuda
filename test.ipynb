{
  "nbformat": 4,
  "nbformat_minor": 0,
  "metadata": {
    "colab": {
      "provenance": [],
      "authorship_tag": "ABX9TyNCm124mprsFJsAbD33MyzS",
      "include_colab_link": true
    },
    "kernelspec": {
      "name": "python3",
      "display_name": "Python 3"
    },
    "language_info": {
      "name": "python"
    },
    "accelerator": "GPU",
    "gpuClass": "standard"
  },
  "cells": [
    {
      "cell_type": "markdown",
      "metadata": {
        "id": "view-in-github",
        "colab_type": "text"
      },
      "source": [
        "<a href=\"https://colab.research.google.com/github/Nastya880/cuda/blob/main/test.ipynb\" target=\"_parent\"><img src=\"https://colab.research.google.com/assets/colab-badge.svg\" alt=\"Open In Colab\"/></a>"
      ]
    },
    {
      "cell_type": "code",
      "execution_count": 1,
      "metadata": {
        "colab": {
          "base_uri": "https://localhost:8080/"
        },
        "id": "itSVnF8LgHX4",
        "outputId": "6e19fd4f-5990-4f2a-9387-ce3d751bbf8f"
      },
      "outputs": [
        {
          "output_type": "stream",
          "name": "stdout",
          "text": [
            "22 packages can be upgraded. Run 'apt list --upgradable' to see them.\n",
            "--2022-12-16 05:57:29--  https://developer.nvidia.com/compute/cuda/8.0/Prod2/local_installers/cuda-repo-ubuntu1604-8-0-local-ga2_8.0.61-1_amd64-deb\n",
            "Resolving developer.nvidia.com (developer.nvidia.com)... 152.195.19.142\n",
            "Connecting to developer.nvidia.com (developer.nvidia.com)|152.195.19.142|:443... connected.\n",
            "HTTP request sent, awaiting response... 301 Moved Permanently\n",
            "Location: https://developer.nvidia.com/downloads/compute/cuda/8.0/Prod2/local_installers/cuda-repo-ubuntu1604-8-0-local-ga2_8.0.61-1_amd64-deb [following]\n",
            "--2022-12-16 05:57:30--  https://developer.nvidia.com/downloads/compute/cuda/8.0/Prod2/local_installers/cuda-repo-ubuntu1604-8-0-local-ga2_8.0.61-1_amd64-deb\n",
            "Reusing existing connection to developer.nvidia.com:443.\n",
            "HTTP request sent, awaiting response... 302 Found\n",
            "Location: https://developer.download.nvidia.com/compute/cuda/8.0/secure/Prod2/local_installers/cuda-repo-ubuntu1604-8-0-local-ga2_8.0.61-1_amd64.deb?YrlSBW8o91G448SRTfAr44LJvOKcZuCzPC92yDpJKmvdEGUuon9ZUKAVpwANicxtjtAygRQtjSAkkAoAru6m-r_Ju18iGwkT7Jx8FjuEkltrvMrZMv2W7lsnGeRhur7wB3ItZZP4rc3N-1xcUI3F5jNctYIop4QLx7CY5qF4EhHGkIkJHRRt720HRxvVFJ7-9hmunsLVeEcaaFlk8GajcMXG-w== [following]\n",
            "--2022-12-16 05:57:30--  https://developer.download.nvidia.com/compute/cuda/8.0/secure/Prod2/local_installers/cuda-repo-ubuntu1604-8-0-local-ga2_8.0.61-1_amd64.deb?YrlSBW8o91G448SRTfAr44LJvOKcZuCzPC92yDpJKmvdEGUuon9ZUKAVpwANicxtjtAygRQtjSAkkAoAru6m-r_Ju18iGwkT7Jx8FjuEkltrvMrZMv2W7lsnGeRhur7wB3ItZZP4rc3N-1xcUI3F5jNctYIop4QLx7CY5qF4EhHGkIkJHRRt720HRxvVFJ7-9hmunsLVeEcaaFlk8GajcMXG-w==\n",
            "Resolving developer.download.nvidia.com (developer.download.nvidia.com)... 152.195.19.142\n",
            "Connecting to developer.download.nvidia.com (developer.download.nvidia.com)|152.195.19.142|:443... connected.\n",
            "HTTP request sent, awaiting response... 200 OK\n",
            "Length: 1913589814 (1.8G) [application/x-deb]\n",
            "Saving to: ‘cuda-repo-ubuntu1604-8-0-local-ga2_8.0.61-1_amd64-deb’\n",
            "\n",
            "cuda-repo-ubuntu160 100%[===================>]   1.78G   240MB/s    in 7.3s    \n",
            "\n",
            "2022-12-16 05:57:37 (249 MB/s) - ‘cuda-repo-ubuntu1604-8-0-local-ga2_8.0.61-1_amd64-deb’ saved [1913589814/1913589814]\n",
            "\n",
            "Selecting previously unselected package cuda-repo-ubuntu1604-8-0-local-ga2.\n",
            "(Reading database ... 124016 files and directories currently installed.)\n",
            "Preparing to unpack cuda-repo-ubuntu1604-8-0-local-ga2_8.0.61-1_amd64-deb ...\n",
            "Unpacking cuda-repo-ubuntu1604-8-0-local-ga2 (8.0.61-1) ...\n",
            "Setting up cuda-repo-ubuntu1604-8-0-local-ga2 (8.0.61-1) ...\n",
            "Warning: The postinst maintainerscript of the package cuda-repo-ubuntu1604-8-0-local-ga2\n",
            "Warning: seems to use apt-key (provided by apt) without depending on gnupg or gnupg2.\n",
            "Warning: This will BREAK in the future and should be fixed by the package maintainer(s).\n",
            "Note: Check first if apt-key functionality is needed at all - it probably isn't!\n",
            "Warning: apt-key should not be used in scripts (called from postinst maintainerscript of the package cuda-repo-ubuntu1604-8-0-local-ga2)\n",
            "OK\n",
            "OK\n",
            "Extracting templates from packages: 100%\n",
            "Selecting previously unselected package gcc-5-base:amd64.\n",
            "(Reading database ... 124110 files and directories currently installed.)\n",
            "Preparing to unpack .../00-gcc-5-base_5.5.0-12ubuntu1_amd64.deb ...\n",
            "Unpacking gcc-5-base:amd64 (5.5.0-12ubuntu1) ...\n",
            "Selecting previously unselected package libisl15:amd64.\n",
            "Preparing to unpack .../01-libisl15_0.18-4_amd64.deb ...\n",
            "Unpacking libisl15:amd64 (0.18-4) ...\n",
            "Selecting previously unselected package cpp-5.\n",
            "Preparing to unpack .../02-cpp-5_5.5.0-12ubuntu1_amd64.deb ...\n",
            "Unpacking cpp-5 (5.5.0-12ubuntu1) ...\n",
            "Selecting previously unselected package cuda-toolkit-config-common.\n",
            "Preparing to unpack .../03-cuda-toolkit-config-common_12.0.107-1_all.deb ...\n",
            "Unpacking cuda-toolkit-config-common (12.0.107-1) ...\n",
            "dpkg: error processing archive /tmp/apt-dpkg-install-T0Wlu3/03-cuda-toolkit-config-common_12.0.107-1_all.deb (--unpack):\n",
            " trying to overwrite '/etc/ld.so.conf.d/000_cuda.conf', which is also in package cuda-cudart-11-2 11.2.152-1\n",
            "Selecting previously unselected package cuda-toolkit-12-config-common.\n",
            "Preparing to unpack .../04-cuda-toolkit-12-config-common_12.0.107-1_all.deb ...\n",
            "Unpacking cuda-toolkit-12-config-common (12.0.107-1) ...\n",
            "Selecting previously unselected package cuda-toolkit-12-0-config-common.\n",
            "Preparing to unpack .../05-cuda-toolkit-12-0-config-common_12.0.107-1_all.deb ...\n",
            "Unpacking cuda-toolkit-12-0-config-common (12.0.107-1) ...\n",
            "Selecting previously unselected package cuda-cudart-12-0.\n",
            "Preparing to unpack .../06-cuda-cudart-12-0_12.0.107-1_amd64.deb ...\n",
            "Unpacking cuda-cudart-12-0 (12.0.107-1) ...\n",
            "Selecting previously unselected package cuda-nvrtc-12-0.\n",
            "Preparing to unpack .../07-cuda-nvrtc-12-0_12.0.76-1_amd64.deb ...\n",
            "Unpacking cuda-nvrtc-12-0 (12.0.76-1) ...\n",
            "Selecting previously unselected package cuda-opencl-12-0.\n",
            "Preparing to unpack .../08-cuda-opencl-12-0_12.0.76-1_amd64.deb ...\n",
            "Unpacking cuda-opencl-12-0 (12.0.76-1) ...\n",
            "Selecting previously unselected package libcublas-12-0.\n",
            "Preparing to unpack .../09-libcublas-12-0_12.0.1.189-1_amd64.deb ...\n",
            "Unpacking libcublas-12-0 (12.0.1.189-1) ...\n",
            "Selecting previously unselected package libcufft-12-0.\n",
            "Preparing to unpack .../10-libcufft-12-0_11.0.0.21-1_amd64.deb ...\n",
            "Unpacking libcufft-12-0 (11.0.0.21-1) ...\n",
            "Selecting previously unselected package libcufile-12-0.\n",
            "Preparing to unpack .../11-libcufile-12-0_1.5.0.59-1_amd64.deb ...\n",
            "Unpacking libcufile-12-0 (1.5.0.59-1) ...\n",
            "Selecting previously unselected package libcurand-12-0.\n",
            "Preparing to unpack .../12-libcurand-12-0_10.3.1.50-1_amd64.deb ...\n",
            "Unpacking libcurand-12-0 (10.3.1.50-1) ...\n",
            "Selecting previously unselected package libcusolver-12-0.\n",
            "Preparing to unpack .../13-libcusolver-12-0_11.4.2.57-1_amd64.deb ...\n",
            "Unpacking libcusolver-12-0 (11.4.2.57-1) ...\n",
            "Selecting previously unselected package libcusparse-12-0.\n",
            "Preparing to unpack .../14-libcusparse-12-0_12.0.0.76-1_amd64.deb ...\n",
            "Unpacking libcusparse-12-0 (12.0.0.76-1) ...\n",
            "Selecting previously unselected package libnpp-12-0.\n",
            "Preparing to unpack .../15-libnpp-12-0_12.0.0.30-1_amd64.deb ...\n",
            "Unpacking libnpp-12-0 (12.0.0.30-1) ...\n",
            "Selecting previously unselected package libnvjitlink-12-0.\n",
            "Preparing to unpack .../16-libnvjitlink-12-0_12.0.76-1_amd64.deb ...\n",
            "Unpacking libnvjitlink-12-0 (12.0.76-1) ...\n",
            "Selecting previously unselected package libnvjpeg-12-0.\n",
            "Preparing to unpack .../17-libnvjpeg-12-0_12.0.0.28-1_amd64.deb ...\n",
            "Unpacking libnvjpeg-12-0 (12.0.0.28-1) ...\n",
            "Selecting previously unselected package cuda-libraries-12-0.\n",
            "Preparing to unpack .../18-cuda-libraries-12-0_12.0.0-1_amd64.deb ...\n",
            "Unpacking cuda-libraries-12-0 (12.0.0-1) ...\n",
            "Selecting previously unselected package cuda-runtime-12-0.\n",
            "Preparing to unpack .../19-cuda-runtime-12-0_12.0.0-1_amd64.deb ...\n",
            "Unpacking cuda-runtime-12-0 (12.0.0-1) ...\n",
            "Selecting previously unselected package cuda-cuobjdump-12-0.\n",
            "Preparing to unpack .../20-cuda-cuobjdump-12-0_12.0.76-1_amd64.deb ...\n",
            "Unpacking cuda-cuobjdump-12-0 (12.0.76-1) ...\n",
            "Selecting previously unselected package cuda-cuxxfilt-12-0.\n",
            "Preparing to unpack .../21-cuda-cuxxfilt-12-0_12.0.76-1_amd64.deb ...\n",
            "Unpacking cuda-cuxxfilt-12-0 (12.0.76-1) ...\n",
            "Selecting previously unselected package cuda-cccl-12-0.\n",
            "Preparing to unpack .../22-cuda-cccl-12-0_12.0.90-1_amd64.deb ...\n",
            "Unpacking cuda-cccl-12-0 (12.0.90-1) ...\n",
            "Selecting previously unselected package cuda-driver-dev-12-0.\n",
            "Preparing to unpack .../23-cuda-driver-dev-12-0_12.0.107-1_amd64.deb ...\n",
            "Unpacking cuda-driver-dev-12-0 (12.0.107-1) ...\n",
            "Selecting previously unselected package cuda-cudart-dev-12-0.\n",
            "Preparing to unpack .../24-cuda-cudart-dev-12-0_12.0.107-1_amd64.deb ...\n",
            "Unpacking cuda-cudart-dev-12-0 (12.0.107-1) ...\n",
            "Selecting previously unselected package cuda-nvcc-12-0.\n",
            "Preparing to unpack .../25-cuda-nvcc-12-0_12.0.76-1_amd64.deb ...\n",
            "Unpacking cuda-nvcc-12-0 (12.0.76-1) ...\n",
            "Selecting previously unselected package cuda-nvprune-12-0.\n",
            "Preparing to unpack .../26-cuda-nvprune-12-0_12.0.76-1_amd64.deb ...\n",
            "Unpacking cuda-nvprune-12-0 (12.0.76-1) ...\n",
            "Selecting previously unselected package cuda-compiler-12-0.\n",
            "Preparing to unpack .../27-cuda-compiler-12-0_12.0.0-1_amd64.deb ...\n",
            "Unpacking cuda-compiler-12-0 (12.0.0-1) ...\n",
            "Selecting previously unselected package cuda-profiler-api-12-0.\n",
            "Preparing to unpack .../28-cuda-profiler-api-12-0_12.0.76-1_amd64.deb ...\n",
            "Unpacking cuda-profiler-api-12-0 (12.0.76-1) ...\n",
            "Selecting previously unselected package cuda-nvrtc-dev-12-0.\n",
            "Preparing to unpack .../29-cuda-nvrtc-dev-12-0_12.0.76-1_amd64.deb ...\n",
            "Unpacking cuda-nvrtc-dev-12-0 (12.0.76-1) ...\n",
            "Selecting previously unselected package cuda-opencl-dev-12-0.\n",
            "Preparing to unpack .../30-cuda-opencl-dev-12-0_12.0.76-1_amd64.deb ...\n",
            "Unpacking cuda-opencl-dev-12-0 (12.0.76-1) ...\n",
            "Selecting previously unselected package libcublas-dev-12-0.\n",
            "Preparing to unpack .../31-libcublas-dev-12-0_12.0.1.189-1_amd64.deb ...\n",
            "Unpacking libcublas-dev-12-0 (12.0.1.189-1) ...\n",
            "Selecting previously unselected package libcufft-dev-12-0.\n",
            "Preparing to unpack .../32-libcufft-dev-12-0_11.0.0.21-1_amd64.deb ...\n",
            "Unpacking libcufft-dev-12-0 (11.0.0.21-1) ...\n",
            "Selecting previously unselected package libcufile-dev-12-0.\n",
            "Preparing to unpack .../33-libcufile-dev-12-0_1.5.0.59-1_amd64.deb ...\n",
            "Unpacking libcufile-dev-12-0 (1.5.0.59-1) ...\n",
            "Selecting previously unselected package libcurand-dev-12-0.\n",
            "Preparing to unpack .../34-libcurand-dev-12-0_10.3.1.50-1_amd64.deb ...\n",
            "Unpacking libcurand-dev-12-0 (10.3.1.50-1) ...\n",
            "Selecting previously unselected package libcusolver-dev-12-0.\n",
            "Preparing to unpack .../35-libcusolver-dev-12-0_11.4.2.57-1_amd64.deb ...\n",
            "Unpacking libcusolver-dev-12-0 (11.4.2.57-1) ...\n",
            "Selecting previously unselected package libcusparse-dev-12-0.\n",
            "Preparing to unpack .../36-libcusparse-dev-12-0_12.0.0.76-1_amd64.deb ...\n",
            "Unpacking libcusparse-dev-12-0 (12.0.0.76-1) ...\n",
            "Selecting previously unselected package libnpp-dev-12-0.\n",
            "Preparing to unpack .../37-libnpp-dev-12-0_12.0.0.30-1_amd64.deb ...\n",
            "Unpacking libnpp-dev-12-0 (12.0.0.30-1) ...\n",
            "Selecting previously unselected package libnvjitlink-dev-12-0.\n",
            "Preparing to unpack .../38-libnvjitlink-dev-12-0_12.0.76-1_amd64.deb ...\n",
            "Unpacking libnvjitlink-dev-12-0 (12.0.76-1) ...\n",
            "Selecting previously unselected package libnvjpeg-dev-12-0.\n",
            "Preparing to unpack .../39-libnvjpeg-dev-12-0_12.0.0.28-1_amd64.deb ...\n",
            "Unpacking libnvjpeg-dev-12-0 (12.0.0.28-1) ...\n",
            "Selecting previously unselected package cuda-libraries-dev-12-0.\n",
            "Preparing to unpack .../40-cuda-libraries-dev-12-0_12.0.0-1_amd64.deb ...\n",
            "Unpacking cuda-libraries-dev-12-0 (12.0.0-1) ...\n",
            "Selecting previously unselected package cuda-cupti-12-0.\n",
            "Preparing to unpack .../41-cuda-cupti-12-0_12.0.90-1_amd64.deb ...\n",
            "Unpacking cuda-cupti-12-0 (12.0.90-1) ...\n",
            "Selecting previously unselected package cuda-cupti-dev-12-0.\n",
            "Preparing to unpack .../42-cuda-cupti-dev-12-0_12.0.90-1_amd64.deb ...\n",
            "Unpacking cuda-cupti-dev-12-0 (12.0.90-1) ...\n",
            "Selecting previously unselected package cuda-nvdisasm-12-0.\n",
            "Preparing to unpack .../43-cuda-nvdisasm-12-0_12.0.76-1_amd64.deb ...\n",
            "Unpacking cuda-nvdisasm-12-0 (12.0.76-1) ...\n",
            "Selecting previously unselected package cuda-gdb-12-0.\n",
            "Preparing to unpack .../44-cuda-gdb-12-0_12.0.90-1_amd64.deb ...\n",
            "Unpacking cuda-gdb-12-0 (12.0.90-1) ...\n",
            "Selecting previously unselected package cuda-nvprof-12-0.\n",
            "Preparing to unpack .../45-cuda-nvprof-12-0_12.0.90-1_amd64.deb ...\n",
            "Unpacking cuda-nvprof-12-0 (12.0.90-1) ...\n",
            "Selecting previously unselected package cuda-nvtx-12-0.\n",
            "Preparing to unpack .../46-cuda-nvtx-12-0_12.0.76-1_amd64.deb ...\n",
            "Unpacking cuda-nvtx-12-0 (12.0.76-1) ...\n",
            "Selecting previously unselected package cuda-sanitizer-12-0.\n",
            "Preparing to unpack .../47-cuda-sanitizer-12-0_12.0.90-1_amd64.deb ...\n",
            "Unpacking cuda-sanitizer-12-0 (12.0.90-1) ...\n",
            "Selecting previously unselected package cuda-command-line-tools-12-0.\n",
            "Preparing to unpack .../48-cuda-command-line-tools-12-0_12.0.0-1_amd64.deb ...\n",
            "Unpacking cuda-command-line-tools-12-0 (12.0.0-1) ...\n",
            "Selecting previously unselected package nsight-compute-2022.4.0.\n",
            "Preparing to unpack .../49-nsight-compute-2022.4.0_2022.4.0.15-1_amd64.deb ...\n",
            "Unpacking nsight-compute-2022.4.0 (2022.4.0.15-1) ...\n",
            "Selecting previously unselected package cuda-nsight-compute-12-0.\n",
            "Preparing to unpack .../50-cuda-nsight-compute-12-0_12.0.0-1_amd64.deb ...\n",
            "Unpacking cuda-nsight-compute-12-0 (12.0.0-1) ...\n",
            "Selecting previously unselected package libxcb-xinput0:amd64.\n",
            "Preparing to unpack .../51-libxcb-xinput0_1.13-2~ubuntu18.04_amd64.deb ...\n",
            "Unpacking libxcb-xinput0:amd64 (1.13-2~ubuntu18.04) ...\n",
            "Selecting previously unselected package nsight-systems-2022.4.2.\n",
            "Preparing to unpack .../52-nsight-systems-2022.4.2_2022.4.2.18-32044700v0_amd64.deb ...\n",
            "Unpacking nsight-systems-2022.4.2 (2022.4.2.18-32044700v0) ...\n",
            "Selecting previously unselected package cuda-nsight-systems-12-0.\n",
            "Preparing to unpack .../53-cuda-nsight-systems-12-0_12.0.0-1_amd64.deb ...\n",
            "Unpacking cuda-nsight-systems-12-0 (12.0.0-1) ...\n",
            "Selecting previously unselected package cuda-nsight-12-0.\n",
            "Preparing to unpack .../54-cuda-nsight-12-0_12.0.78-1_amd64.deb ...\n",
            "Unpacking cuda-nsight-12-0 (12.0.78-1) ...\n",
            "Selecting previously unselected package cuda-nvml-dev-12-0.\n",
            "Preparing to unpack .../55-cuda-nvml-dev-12-0_12.0.76-1_amd64.deb ...\n",
            "Unpacking cuda-nvml-dev-12-0 (12.0.76-1) ...\n",
            "Selecting previously unselected package cuda-nvvp-12-0.\n",
            "Preparing to unpack .../56-cuda-nvvp-12-0_12.0.90-1_amd64.deb ...\n",
            "Unpacking cuda-nvvp-12-0 (12.0.90-1) ...\n",
            "Selecting previously unselected package cuda-visual-tools-12-0.\n",
            "Preparing to unpack .../57-cuda-visual-tools-12-0_12.0.0-1_amd64.deb ...\n",
            "Unpacking cuda-visual-tools-12-0 (12.0.0-1) ...\n",
            "Selecting previously unselected package gds-tools-12-0.\n",
            "Preparing to unpack .../58-gds-tools-12-0_1.5.0.59-1_amd64.deb ...\n",
            "Unpacking gds-tools-12-0 (1.5.0.59-1) ...\n",
            "Selecting previously unselected package cuda-tools-12-0.\n",
            "Preparing to unpack .../59-cuda-tools-12-0_12.0.0-1_amd64.deb ...\n",
            "Unpacking cuda-tools-12-0 (12.0.0-1) ...\n",
            "Selecting previously unselected package cuda-documentation-12-0.\n",
            "Preparing to unpack .../60-cuda-documentation-12-0_12.0.76-1_amd64.deb ...\n",
            "Unpacking cuda-documentation-12-0 (12.0.76-1) ...\n",
            "Selecting previously unselected package libnvvm-samples-12-0.\n",
            "Preparing to unpack .../61-libnvvm-samples-12-0_12.0.94-1_amd64.deb ...\n",
            "Unpacking libnvvm-samples-12-0 (12.0.94-1) ...\n",
            "Selecting previously unselected package cuda-toolkit-12-0.\n",
            "Preparing to unpack .../62-cuda-toolkit-12-0_12.0.0-1_amd64.deb ...\n",
            "Unpacking cuda-toolkit-12-0 (12.0.0-1) ...\n",
            "Selecting previously unselected package cuda-demo-suite-12-0.\n",
            "Preparing to unpack .../63-cuda-demo-suite-12-0_12.0.76-1_amd64.deb ...\n",
            "Unpacking cuda-demo-suite-12-0 (12.0.76-1) ...\n",
            "Selecting previously unselected package cuda-12-0.\n",
            "Preparing to unpack .../64-cuda-12-0_12.0.0-1_amd64.deb ...\n",
            "Unpacking cuda-12-0 (12.0.0-1) ...\n",
            "Selecting previously unselected package cuda.\n",
            "Preparing to unpack .../65-cuda_12.0.0-1_amd64.deb ...\n",
            "Unpacking cuda (12.0.0-1) ...\n",
            "Selecting previously unselected package libasan2:amd64.\n",
            "Preparing to unpack .../66-libasan2_5.5.0-12ubuntu1_amd64.deb ...\n",
            "Unpacking libasan2:amd64 (5.5.0-12ubuntu1) ...\n",
            "Selecting previously unselected package libmpx0:amd64.\n",
            "Preparing to unpack .../67-libmpx0_5.5.0-12ubuntu1_amd64.deb ...\n",
            "Unpacking libmpx0:amd64 (5.5.0-12ubuntu1) ...\n",
            "Selecting previously unselected package libgcc-5-dev:amd64.\n",
            "Preparing to unpack .../68-libgcc-5-dev_5.5.0-12ubuntu1_amd64.deb ...\n",
            "Unpacking libgcc-5-dev:amd64 (5.5.0-12ubuntu1) ...\n",
            "Selecting previously unselected package gcc-5.\n",
            "Preparing to unpack .../69-gcc-5_5.5.0-12ubuntu1_amd64.deb ...\n",
            "Unpacking gcc-5 (5.5.0-12ubuntu1) ...\n",
            "Selecting previously unselected package libstdc++-5-dev:amd64.\n",
            "Preparing to unpack .../70-libstdc++-5-dev_5.5.0-12ubuntu1_amd64.deb ...\n",
            "Unpacking libstdc++-5-dev:amd64 (5.5.0-12ubuntu1) ...\n",
            "Selecting previously unselected package g++-5.\n",
            "Preparing to unpack .../71-g++-5_5.5.0-12ubuntu1_amd64.deb ...\n",
            "Unpacking g++-5 (5.5.0-12ubuntu1) ...\n",
            "Errors were encountered while processing:\n",
            " /tmp/apt-dpkg-install-T0Wlu3/03-cuda-toolkit-config-common_12.0.107-1_all.deb\n",
            "E: Sub-process /usr/bin/dpkg returned an error code (1)\n",
            "Reading package lists... Done\n",
            "Building dependency tree       \n",
            "Reading state information... Done\n",
            "Note, selecting 'cuda-8-0' for regex 'cuda-8.0'\n",
            "Note, selecting 'libcuda-8.0-1' for regex 'cuda-8.0'\n",
            "You might want to run 'apt --fix-broken install' to correct these.\n",
            "The following packages have unmet dependencies:\n",
            " cuda-8-0 : Depends: cuda-toolkit-8-0 (>= 8.0.61) but it is not going to be installed\n",
            "            Depends: cuda-runtime-8-0 (>= 8.0.61) but it is not going to be installed\n",
            "            Depends: cuda-demo-suite-8-0 (>= 8.0.61) but it is not going to be installed\n",
            " cuda-cudart-12-0 : Depends: cuda-toolkit-config-common but it is not going to be installed\n",
            " cuda-opencl-12-0 : Depends: cuda-toolkit-config-common but it is not going to be installed\n",
            " libcublas-12-0 : Depends: cuda-toolkit-config-common but it is not going to be installed\n",
            " libcufft-12-0 : Depends: cuda-toolkit-config-common but it is not going to be installed\n",
            " libcufile-12-0 : Depends: cuda-toolkit-config-common but it is not going to be installed\n",
            " libcurand-12-0 : Depends: cuda-toolkit-config-common but it is not going to be installed\n",
            " libcusolver-12-0 : Depends: cuda-toolkit-config-common but it is not going to be installed\n",
            " libcusparse-12-0 : Depends: cuda-toolkit-config-common but it is not going to be installed\n",
            " libnpp-12-0 : Depends: cuda-toolkit-config-common but it is not going to be installed\n",
            " libnvjitlink-12-0 : Depends: cuda-toolkit-config-common but it is not going to be installed\n",
            " libnvjpeg-12-0 : Depends: cuda-toolkit-config-common but it is not going to be installed\n",
            "E: Unmet dependencies. Try 'apt --fix-broken install' with no packages (or specify a solution).\n"
          ]
        }
      ],
      "source": [
        "!apt update -qq;\n",
        "!wget https://developer.nvidia.com/compute/cuda/8.0/Prod2/local_installers/cuda-repo-ubuntu1604-8-0-local-ga2_8.0.61-1_amd64-deb;\n",
        "!dpkg -i cuda-repo-ubuntu1604-8-0-local-ga2_8.0.61-1_amd64-deb;\n",
        "!apt-key add /var/cuda-repo-8-0-local-ga2/7fa2af80.pub;\n",
        "!apt-get update -qq;\n",
        "!apt-get install cuda gcc-5 g++-5 -y -qq;\n",
        "!ln -s /usr/bin/gcc-5 /usr/local/cuda/bin/gcc;\n",
        "!ln -s /usr/bin/g++-5 /usr/local/cuda/bin/g++;\n",
        "!apt install cuda-8.0;"
      ]
    },
    {
      "cell_type": "code",
      "source": [
        "!/usr/local/cuda/bin/nvcc --version"
      ],
      "metadata": {
        "colab": {
          "base_uri": "https://localhost:8080/"
        },
        "id": "ibKOblAUhmV8",
        "outputId": "9671b4de-32a3-4556-a15c-fd1a6f447fca"
      },
      "execution_count": 8,
      "outputs": [
        {
          "output_type": "stream",
          "name": "stdout",
          "text": [
            "nvcc: NVIDIA (R) Cuda compiler driver\n",
            "Copyright (c) 2005-2021 NVIDIA Corporation\n",
            "Built on Sun_Feb_14_21:12:58_PST_2021\n",
            "Cuda compilation tools, release 11.2, V11.2.152\n",
            "Build cuda_11.2.r11.2/compiler.29618528_0\n"
          ]
        }
      ]
    },
    {
      "cell_type": "code",
      "source": [
        "%%writefile test.cu\n",
        "#include <stdio.h>\n",
        "\n",
        "// __global__ functions, or \"kernels\", execute on the device\n",
        "__global__ void hello_kernel(void)\n",
        "{\n",
        "  printf(\"Hello, world from the device!\\n\");\n",
        "}\n",
        "\n",
        "int main(void)\n",
        "{\n",
        "  // greet from the host\n",
        "  printf(\"Hello, world from the host!\\n\");\n",
        "\n",
        "  // launch a kernel with a single thread to greet from the device\n",
        "  hello_kernel<<<1,1>>>();\n",
        "\n",
        "  // wait for the device to finish so that we see the message\n",
        "  cudaDeviceSynchronize();\n",
        "\n",
        "  return 0;\n",
        "}"
      ],
      "metadata": {
        "colab": {
          "base_uri": "https://localhost:8080/"
        },
        "id": "DQZQQcPjkC9P",
        "outputId": "845e9220-d788-42e7-fb11-53f7b7060b96"
      },
      "execution_count": 13,
      "outputs": [
        {
          "output_type": "stream",
          "name": "stdout",
          "text": [
            "Overwriting test.cu\n"
          ]
        }
      ]
    },
    {
      "cell_type": "code",
      "source": [
        "!nvcc test.cu -o test -Wno-deprecated-gpu-targets"
      ],
      "metadata": {
        "id": "d4W460C4kO-J"
      },
      "execution_count": 14,
      "outputs": []
    },
    {
      "cell_type": "code",
      "source": [
        "!pip install git+git://github.com/andreinechaev/nvcc4jupyter.git"
      ],
      "metadata": {
        "colab": {
          "base_uri": "https://localhost:8080/"
        },
        "id": "xP_W6k4wiV4Q",
        "outputId": "eb52800b-e71c-4b6c-d271-a623119a2166"
      },
      "execution_count": 3,
      "outputs": [
        {
          "output_type": "stream",
          "name": "stdout",
          "text": [
            "Looking in indexes: https://pypi.org/simple, https://us-python.pkg.dev/colab-wheels/public/simple/\n",
            "Collecting git+git://github.com/andreinechaev/nvcc4jupyter.git\n",
            "  Cloning git://github.com/andreinechaev/nvcc4jupyter.git to /tmp/pip-req-build-ub5mbibr\n",
            "  Running command git clone -q git://github.com/andreinechaev/nvcc4jupyter.git /tmp/pip-req-build-ub5mbibr\n",
            "  fatal: unable to connect to github.com:\n",
            "  github.com[0: 192.30.255.112]: errno=Connection timed out\n",
            "\n",
            "\u001b[33mWARNING: Discarding git+git://github.com/andreinechaev/nvcc4jupyter.git. Command errored out with exit status 128: git clone -q git://github.com/andreinechaev/nvcc4jupyter.git /tmp/pip-req-build-ub5mbibr Check the logs for full command output.\u001b[0m\n",
            "\u001b[31mERROR: Command errored out with exit status 128: git clone -q git://github.com/andreinechaev/nvcc4jupyter.git /tmp/pip-req-build-ub5mbibr Check the logs for full command output.\u001b[0m\n"
          ]
        }
      ]
    },
    {
      "cell_type": "code",
      "source": [
        "%load_ext nvcc_plugin"
      ],
      "metadata": {
        "colab": {
          "base_uri": "https://localhost:8080/",
          "height": 398
        },
        "id": "CMe__rW6j4YO",
        "outputId": "ec3020d8-4bfa-4ed2-9a22-6405dbb93a68"
      },
      "execution_count": 7,
      "outputs": [
        {
          "output_type": "error",
          "ename": "ModuleNotFoundError",
          "evalue": "ignored",
          "traceback": [
            "\u001b[0;31m---------------------------------------------------------------------------\u001b[0m",
            "\u001b[0;31mModuleNotFoundError\u001b[0m                       Traceback (most recent call last)",
            "\u001b[0;32m<ipython-input-7-5df49c27db81>\u001b[0m in \u001b[0;36m<module>\u001b[0;34m\u001b[0m\n\u001b[0;32m----> 1\u001b[0;31m \u001b[0mget_ipython\u001b[0m\u001b[0;34m(\u001b[0m\u001b[0;34m)\u001b[0m\u001b[0;34m.\u001b[0m\u001b[0mrun_line_magic\u001b[0m\u001b[0;34m(\u001b[0m\u001b[0;34m'load_ext'\u001b[0m\u001b[0;34m,\u001b[0m \u001b[0;34m'nvcc_plugin'\u001b[0m\u001b[0;34m)\u001b[0m\u001b[0;34m\u001b[0m\u001b[0;34m\u001b[0m\u001b[0m\n\u001b[0m",
            "\u001b[0;32m/usr/local/lib/python3.8/dist-packages/IPython/core/interactiveshell.py\u001b[0m in \u001b[0;36mrun_line_magic\u001b[0;34m(self, magic_name, line, _stack_depth)\u001b[0m\n\u001b[1;32m   2312\u001b[0m                 \u001b[0mkwargs\u001b[0m\u001b[0;34m[\u001b[0m\u001b[0;34m'local_ns'\u001b[0m\u001b[0;34m]\u001b[0m \u001b[0;34m=\u001b[0m \u001b[0msys\u001b[0m\u001b[0;34m.\u001b[0m\u001b[0m_getframe\u001b[0m\u001b[0;34m(\u001b[0m\u001b[0mstack_depth\u001b[0m\u001b[0;34m)\u001b[0m\u001b[0;34m.\u001b[0m\u001b[0mf_locals\u001b[0m\u001b[0;34m\u001b[0m\u001b[0;34m\u001b[0m\u001b[0m\n\u001b[1;32m   2313\u001b[0m             \u001b[0;32mwith\u001b[0m \u001b[0mself\u001b[0m\u001b[0;34m.\u001b[0m\u001b[0mbuiltin_trap\u001b[0m\u001b[0;34m:\u001b[0m\u001b[0;34m\u001b[0m\u001b[0;34m\u001b[0m\u001b[0m\n\u001b[0;32m-> 2314\u001b[0;31m                 \u001b[0mresult\u001b[0m \u001b[0;34m=\u001b[0m \u001b[0mfn\u001b[0m\u001b[0;34m(\u001b[0m\u001b[0;34m*\u001b[0m\u001b[0margs\u001b[0m\u001b[0;34m,\u001b[0m \u001b[0;34m**\u001b[0m\u001b[0mkwargs\u001b[0m\u001b[0;34m)\u001b[0m\u001b[0;34m\u001b[0m\u001b[0;34m\u001b[0m\u001b[0m\n\u001b[0m\u001b[1;32m   2315\u001b[0m             \u001b[0;32mreturn\u001b[0m \u001b[0mresult\u001b[0m\u001b[0;34m\u001b[0m\u001b[0;34m\u001b[0m\u001b[0m\n\u001b[1;32m   2316\u001b[0m \u001b[0;34m\u001b[0m\u001b[0m\n",
            "\u001b[0;32m<decorator-gen-57>\u001b[0m in \u001b[0;36mload_ext\u001b[0;34m(self, module_str)\u001b[0m\n",
            "\u001b[0;32m/usr/local/lib/python3.8/dist-packages/IPython/core/magic.py\u001b[0m in \u001b[0;36m<lambda>\u001b[0;34m(f, *a, **k)\u001b[0m\n\u001b[1;32m    185\u001b[0m     \u001b[0;31m# but it's overkill for just that one bit of state.\u001b[0m\u001b[0;34m\u001b[0m\u001b[0;34m\u001b[0m\u001b[0;34m\u001b[0m\u001b[0m\n\u001b[1;32m    186\u001b[0m     \u001b[0;32mdef\u001b[0m \u001b[0mmagic_deco\u001b[0m\u001b[0;34m(\u001b[0m\u001b[0marg\u001b[0m\u001b[0;34m)\u001b[0m\u001b[0;34m:\u001b[0m\u001b[0;34m\u001b[0m\u001b[0;34m\u001b[0m\u001b[0m\n\u001b[0;32m--> 187\u001b[0;31m         \u001b[0mcall\u001b[0m \u001b[0;34m=\u001b[0m \u001b[0;32mlambda\u001b[0m \u001b[0mf\u001b[0m\u001b[0;34m,\u001b[0m \u001b[0;34m*\u001b[0m\u001b[0ma\u001b[0m\u001b[0;34m,\u001b[0m \u001b[0;34m**\u001b[0m\u001b[0mk\u001b[0m\u001b[0;34m:\u001b[0m \u001b[0mf\u001b[0m\u001b[0;34m(\u001b[0m\u001b[0;34m*\u001b[0m\u001b[0ma\u001b[0m\u001b[0;34m,\u001b[0m \u001b[0;34m**\u001b[0m\u001b[0mk\u001b[0m\u001b[0;34m)\u001b[0m\u001b[0;34m\u001b[0m\u001b[0;34m\u001b[0m\u001b[0m\n\u001b[0m\u001b[1;32m    188\u001b[0m \u001b[0;34m\u001b[0m\u001b[0m\n\u001b[1;32m    189\u001b[0m         \u001b[0;32mif\u001b[0m \u001b[0mcallable\u001b[0m\u001b[0;34m(\u001b[0m\u001b[0marg\u001b[0m\u001b[0;34m)\u001b[0m\u001b[0;34m:\u001b[0m\u001b[0;34m\u001b[0m\u001b[0;34m\u001b[0m\u001b[0m\n",
            "\u001b[0;32m/usr/local/lib/python3.8/dist-packages/IPython/core/magics/extension.py\u001b[0m in \u001b[0;36mload_ext\u001b[0;34m(self, module_str)\u001b[0m\n\u001b[1;32m     31\u001b[0m         \u001b[0;32mif\u001b[0m \u001b[0;32mnot\u001b[0m \u001b[0mmodule_str\u001b[0m\u001b[0;34m:\u001b[0m\u001b[0;34m\u001b[0m\u001b[0;34m\u001b[0m\u001b[0m\n\u001b[1;32m     32\u001b[0m             \u001b[0;32mraise\u001b[0m \u001b[0mUsageError\u001b[0m\u001b[0;34m(\u001b[0m\u001b[0;34m'Missing module name.'\u001b[0m\u001b[0;34m)\u001b[0m\u001b[0;34m\u001b[0m\u001b[0;34m\u001b[0m\u001b[0m\n\u001b[0;32m---> 33\u001b[0;31m         \u001b[0mres\u001b[0m \u001b[0;34m=\u001b[0m \u001b[0mself\u001b[0m\u001b[0;34m.\u001b[0m\u001b[0mshell\u001b[0m\u001b[0;34m.\u001b[0m\u001b[0mextension_manager\u001b[0m\u001b[0;34m.\u001b[0m\u001b[0mload_extension\u001b[0m\u001b[0;34m(\u001b[0m\u001b[0mmodule_str\u001b[0m\u001b[0;34m)\u001b[0m\u001b[0;34m\u001b[0m\u001b[0;34m\u001b[0m\u001b[0m\n\u001b[0m\u001b[1;32m     34\u001b[0m \u001b[0;34m\u001b[0m\u001b[0m\n\u001b[1;32m     35\u001b[0m         \u001b[0;32mif\u001b[0m \u001b[0mres\u001b[0m \u001b[0;34m==\u001b[0m \u001b[0;34m'already loaded'\u001b[0m\u001b[0;34m:\u001b[0m\u001b[0;34m\u001b[0m\u001b[0;34m\u001b[0m\u001b[0m\n",
            "\u001b[0;32m/usr/local/lib/python3.8/dist-packages/IPython/core/extensions.py\u001b[0m in \u001b[0;36mload_extension\u001b[0;34m(self, module_str)\u001b[0m\n\u001b[1;32m     78\u001b[0m             \u001b[0;32mif\u001b[0m \u001b[0mmodule_str\u001b[0m \u001b[0;32mnot\u001b[0m \u001b[0;32min\u001b[0m \u001b[0msys\u001b[0m\u001b[0;34m.\u001b[0m\u001b[0mmodules\u001b[0m\u001b[0;34m:\u001b[0m\u001b[0;34m\u001b[0m\u001b[0;34m\u001b[0m\u001b[0m\n\u001b[1;32m     79\u001b[0m                 \u001b[0;32mwith\u001b[0m \u001b[0mprepended_to_syspath\u001b[0m\u001b[0;34m(\u001b[0m\u001b[0mself\u001b[0m\u001b[0;34m.\u001b[0m\u001b[0mipython_extension_dir\u001b[0m\u001b[0;34m)\u001b[0m\u001b[0;34m:\u001b[0m\u001b[0;34m\u001b[0m\u001b[0;34m\u001b[0m\u001b[0m\n\u001b[0;32m---> 80\u001b[0;31m                     \u001b[0mmod\u001b[0m \u001b[0;34m=\u001b[0m \u001b[0mimport_module\u001b[0m\u001b[0;34m(\u001b[0m\u001b[0mmodule_str\u001b[0m\u001b[0;34m)\u001b[0m\u001b[0;34m\u001b[0m\u001b[0;34m\u001b[0m\u001b[0m\n\u001b[0m\u001b[1;32m     81\u001b[0m                     \u001b[0;32mif\u001b[0m \u001b[0mmod\u001b[0m\u001b[0;34m.\u001b[0m\u001b[0m__file__\u001b[0m\u001b[0;34m.\u001b[0m\u001b[0mstartswith\u001b[0m\u001b[0;34m(\u001b[0m\u001b[0mself\u001b[0m\u001b[0;34m.\u001b[0m\u001b[0mipython_extension_dir\u001b[0m\u001b[0;34m)\u001b[0m\u001b[0;34m:\u001b[0m\u001b[0;34m\u001b[0m\u001b[0;34m\u001b[0m\u001b[0m\n\u001b[1;32m     82\u001b[0m                         print((\"Loading extensions from {dir} is deprecated. \"\n",
            "\u001b[0;32m/usr/lib/python3.8/importlib/__init__.py\u001b[0m in \u001b[0;36mimport_module\u001b[0;34m(name, package)\u001b[0m\n\u001b[1;32m    125\u001b[0m                 \u001b[0;32mbreak\u001b[0m\u001b[0;34m\u001b[0m\u001b[0;34m\u001b[0m\u001b[0m\n\u001b[1;32m    126\u001b[0m             \u001b[0mlevel\u001b[0m \u001b[0;34m+=\u001b[0m \u001b[0;36m1\u001b[0m\u001b[0;34m\u001b[0m\u001b[0;34m\u001b[0m\u001b[0m\n\u001b[0;32m--> 127\u001b[0;31m     \u001b[0;32mreturn\u001b[0m \u001b[0m_bootstrap\u001b[0m\u001b[0;34m.\u001b[0m\u001b[0m_gcd_import\u001b[0m\u001b[0;34m(\u001b[0m\u001b[0mname\u001b[0m\u001b[0;34m[\u001b[0m\u001b[0mlevel\u001b[0m\u001b[0;34m:\u001b[0m\u001b[0;34m]\u001b[0m\u001b[0;34m,\u001b[0m \u001b[0mpackage\u001b[0m\u001b[0;34m,\u001b[0m \u001b[0mlevel\u001b[0m\u001b[0;34m)\u001b[0m\u001b[0;34m\u001b[0m\u001b[0;34m\u001b[0m\u001b[0m\n\u001b[0m\u001b[1;32m    128\u001b[0m \u001b[0;34m\u001b[0m\u001b[0m\n\u001b[1;32m    129\u001b[0m \u001b[0;34m\u001b[0m\u001b[0m\n",
            "\u001b[0;32m/usr/lib/python3.8/importlib/_bootstrap.py\u001b[0m in \u001b[0;36m_gcd_import\u001b[0;34m(name, package, level)\u001b[0m\n",
            "\u001b[0;32m/usr/lib/python3.8/importlib/_bootstrap.py\u001b[0m in \u001b[0;36m_find_and_load\u001b[0;34m(name, import_)\u001b[0m\n",
            "\u001b[0;32m/usr/lib/python3.8/importlib/_bootstrap.py\u001b[0m in \u001b[0;36m_find_and_load_unlocked\u001b[0;34m(name, import_)\u001b[0m\n",
            "\u001b[0;31mModuleNotFoundError\u001b[0m: No module named 'nvcc_plugin'",
            "",
            "\u001b[0;31m---------------------------------------------------------------------------\u001b[0;32m\nNOTE: If your import is failing due to a missing package, you can\nmanually install dependencies using either !pip or !apt.\n\nTo view examples of installing some common dependencies, click the\n\"Open Examples\" button below.\n\u001b[0;31m---------------------------------------------------------------------------\u001b[0m\n"
          ],
          "errorDetails": {
            "actions": [
              {
                "action": "open_url",
                "actionText": "Open Examples",
                "url": "/notebooks/snippets/importing_libraries.ipynb"
              }
            ]
          }
        }
      ]
    },
    {
      "cell_type": "code",
      "source": [
        "%%cu\n",
        "#include <cstdio>\n",
        "#include <cuda_runtime.h>\n",
        "#include <chrono>\n",
        "int main (int argc, char * argv [] )\n",
        "{\n",
        "    int deviceCount;\n",
        "    cudaDeviceProp devProp{};\n",
        "    cudaGetDeviceCount ( &deviceCount );\n",
        "    printf ( \"Found %d devices\\n\", deviceCount );\n",
        "    for ( int device = 0; device < deviceCount; device++)\n",
        "    {cudaGetDeviceProperties ( &devProp, device );\n",
        "        printf (\"Device %d\\n\", device );\n",
        "        printf (\"Compute capability : %d.%d\\n\", devProp.major, devProp.minor);\n",
        "        printf (\"Name : %s\\n\", devProp.name);\n",
        "        // Полный объем глобальной памяти в Mбайтах:\n",
        "        printf (\"Total Global Mem: %lu\\n\", (devProp.totalGlobalMem/(1024*1024)));\n",
        "        printf (\"Shared memory per block: %zu\\n\" , devProp.sharedMemPerBlock );\n",
        "        printf (\"Registers per block : %d\\n\", devProp.regsPerBlock);\n",
        "        printf (\"Warp size : %d\\n\", devProp.warpSize);\n",
        "        printf (\"Max threads per block: %d\\n\", devProp.maxThreadsPerBlock);\n",
        "        printf (\"Total constant memory: %zu\\n\", devProp.totalConstMem);\n",
        "        printf (\"Clock Rate : %d\\n\", devProp.clockRate);\n",
        "        printf (\"Texture Alignment : %zu\\n\", devProp.textureAlignment);\n",
        "        printf (\"Device Overlap : %d\\n\", devProp.deviceOverlap);\n",
        "        printf (\"Multiprocessor Count: %d\\n\", devProp.multiProcessorCount);\n",
        "        printf (\"Max Threads Dim : %d %d %d\\n\", devProp.maxThreadsDim[0],\n",
        "                devProp.maxThreadsDim[1], devProp.maxThreadsDim[2] );\n",
        "        printf (\"Max Grid Size : %d %d %d\\n\", devProp.maxGridSize [0],\n",
        "                devProp.maxGridSize [1], devProp.maxGridSize [2]);\n",
        "        printf(\"\");\n",
        "    }\n",
        "    return 0;\n",
        "}"
      ],
      "metadata": {
        "colab": {
          "base_uri": "https://localhost:8080/"
        },
        "id": "-CfNW08ejk8u",
        "outputId": "ed097c35-2af0-4cd9-f424-e94c2a8f7c64"
      },
      "execution_count": 6,
      "outputs": [
        {
          "output_type": "stream",
          "name": "stderr",
          "text": [
            "UsageError: Cell magic `%%cu` not found.\n"
          ]
        }
      ]
    }
  ]
}
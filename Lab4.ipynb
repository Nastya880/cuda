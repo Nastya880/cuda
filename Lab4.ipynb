{
  "nbformat": 4,
  "nbformat_minor": 0,
  "metadata": {
    "colab": {
      "provenance": [],
      "authorship_tag": "ABX9TyMoXMmlSbo8PW3fPw3Py5F1",
      "include_colab_link": true
    },
    "kernelspec": {
      "name": "python3",
      "display_name": "Python 3"
    },
    "language_info": {
      "name": "python"
    }
  },
  "cells": [
    {
      "cell_type": "markdown",
      "metadata": {
        "id": "view-in-github",
        "colab_type": "text"
      },
      "source": [
        "<a href=\"https://colab.research.google.com/github/Nastya880/cuda/blob/main/Lab4.ipynb\" target=\"_parent\"><img src=\"https://colab.research.google.com/assets/colab-badge.svg\" alt=\"Open In Colab\"/></a>"
      ]
    },
    {
      "cell_type": "markdown",
      "source": [
        "Задание 1: изучить основы работы с текстурной ссылкой на CUDA. Написать программу на Cи, реализующую цифровой фильтр с использованием текстурной ссылки и CUDA runtime API, в соответствии с вариантом задания. Измерить время работы программы. Написать программу для верификации результатов. Результаты занести в отчёт.\n",
        "Дано двухмерное изображение. Написать программу, реализующую фильтр Box Blur, применительно  к исходному изображению. Радиус фильтра – параметр программы. \n",
        "Дано двухмерное изображение. Написать программу, реализующую фильтр Gaussian Blur, применительно  к исходному изображению. Радиус фильтра – параметр программы. "
      ],
      "metadata": {
        "id": "pRmOX6AMtqi6"
      }
    },
    {
      "cell_type": "code",
      "source": [],
      "metadata": {
        "id": "a2Lk_y5Ht6iy"
      },
      "execution_count": null,
      "outputs": []
    },
    {
      "cell_type": "markdown",
      "source": [
        "Задание 2: изучить основы работы с текстурным массивом на CUDA. Написать программу на Cи, реализующую цифровой билинейный фильтр для масштабирования изображения с использованием текстурного массива и CUDA runtime API."
      ],
      "metadata": {
        "id": "Ir_Le0I1t64r"
      }
    },
    {
      "cell_type": "code",
      "source": [],
      "metadata": {
        "id": "UNQvWjLit_P3"
      },
      "execution_count": null,
      "outputs": []
    }
  ]
}
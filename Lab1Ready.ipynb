{
  "nbformat": 4,
  "nbformat_minor": 0,
  "metadata": {
    "colab": {
      "provenance": [],
      "authorship_tag": "ABX9TyPWiOtGJGxvVoGxMwzP4zV5",
      "include_colab_link": true
    },
    "kernelspec": {
      "name": "python3",
      "display_name": "Python 3"
    },
    "language_info": {
      "name": "python"
    },
    "accelerator": "GPU",
    "gpuClass": "standard"
  },
  "cells": [
    {
      "cell_type": "markdown",
      "metadata": {
        "id": "view-in-github",
        "colab_type": "text"
      },
      "source": [
        "<a href=\"https://colab.research.google.com/github/Nastya880/cuda/blob/main/Lab1Ready.ipynb\" target=\"_parent\"><img src=\"https://colab.research.google.com/assets/colab-badge.svg\" alt=\"Open In Colab\"/></a>"
      ]
    },
    {
      "cell_type": "markdown",
      "source": [],
      "metadata": {
        "id": "xZx1SsLhmfNo"
      }
    },
    {
      "cell_type": "markdown",
      "source": [],
      "metadata": {
        "id": "sE_wPmSCmhew"
      }
    },
    {
      "cell_type": "code",
      "source": [
        "!git config --global url.\"https://github.com/\".insteadOf git://github.com/\n",
        "!pip install git+git://github.com/andreinechaev/nvcc4jupyter.git\n",
        "%load_ext nvcc_plugin"
      ],
      "metadata": {
        "colab": {
          "base_uri": "https://localhost:8080/"
        },
        "id": "J5dcXEezmh0B",
        "outputId": "0d6bed6b-e18d-47ef-ee91-36d7d9d1f7ff"
      },
      "execution_count": 1,
      "outputs": [
        {
          "output_type": "stream",
          "name": "stdout",
          "text": [
            "Looking in indexes: https://pypi.org/simple, https://us-python.pkg.dev/colab-wheels/public/simple/\n",
            "Collecting git+git://github.com/andreinechaev/nvcc4jupyter.git\n",
            "  Cloning git://github.com/andreinechaev/nvcc4jupyter.git to /tmp/pip-req-build-qtej1alk\n",
            "  Running command git clone -q git://github.com/andreinechaev/nvcc4jupyter.git /tmp/pip-req-build-qtej1alk\n",
            "Building wheels for collected packages: NVCCPlugin\n",
            "  Building wheel for NVCCPlugin (setup.py) ... \u001b[?25l\u001b[?25hdone\n",
            "  Created wheel for NVCCPlugin: filename=NVCCPlugin-0.0.2-py3-none-any.whl size=4304 sha256=395eb04885eff6128cbc2f1c4435bc8cbc11f23432619800a1020a0bbfa435a3\n",
            "  Stored in directory: /tmp/pip-ephem-wheel-cache-8kke5f0_/wheels/69/4f/dd/2613eddd1a84d8809a21caa3a45ccaae9eac9279231c2feabc\n",
            "Successfully built NVCCPlugin\n",
            "Installing collected packages: NVCCPlugin\n",
            "Successfully installed NVCCPlugin-0.0.2\n",
            "created output directory at /content/src\n",
            "Out bin /content/result.out\n"
          ]
        }
      ]
    },
    {
      "cell_type": "code",
      "source": [
        "!sudo ln -s /usr/bin/gcc-5 /usr/local/cuda/bin/gcc\n",
        "!sudo ln -s /usr/bin/g++-5 /usr/local/cuda/bin/g++"
      ],
      "metadata": {
        "id": "qyAz7O_cmp2P"
      },
      "execution_count": 2,
      "outputs": []
    },
    {
      "cell_type": "code",
      "source": [
        "%%cu\n",
        "#include <stdio.h>\n",
        " \n",
        "__global__ void hello() {\n",
        "   int id = threadIdx.x + blockIdx.x * blockDim.x;\n",
        "   printf(\"Hello from thread %d (%d of block %d)\\n\", id, threadIdx.x, blockIdx.x);\n",
        "}\n",
        "\n",
        "int main() {\n",
        "   hello<<<5,4>>>();  //launch 5 blocks of 4 threads each\n",
        " \n",
        "   cudaDeviceSynchronize();  //make sure kernel completes\n",
        "}"
      ],
      "metadata": {
        "colab": {
          "base_uri": "https://localhost:8080/"
        },
        "id": "W4IhcsHumuTC",
        "outputId": "8eeb0b95-7e5c-46ff-f2ad-ae06848a51a5"
      },
      "execution_count": 3,
      "outputs": [
        {
          "output_type": "stream",
          "name": "stdout",
          "text": [
            "Hello from thread 16 (0 of block 4)\n",
            "Hello from thread 17 (1 of block 4)\n",
            "Hello from thread 18 (2 of block 4)\n",
            "Hello from thread 19 (3 of block 4)\n",
            "Hello from thread 4 (0 of block 1)\n",
            "Hello from thread 5 (1 of block 1)\n",
            "Hello from thread 6 (2 of block 1)\n",
            "Hello from thread 7 (3 of block 1)\n",
            "Hello from thread 12 (0 of block 3)\n",
            "Hello from thread 13 (1 of block 3)\n",
            "Hello from thread 14 (2 of block 3)\n",
            "Hello from thread 15 (3 of block 3)\n",
            "Hello from thread 8 (0 of block 2)\n",
            "Hello from thread 9 (1 of block 2)\n",
            "Hello from thread 10 (2 of block 2)\n",
            "Hello from thread 11 (3 of block 2)\n",
            "Hello from thread 0 (0 of block 0)\n",
            "Hello from thread 1 (1 of block 0)\n",
            "Hello from thread 2 (2 of block 0)\n",
            "Hello from thread 3 (3 of block 0)\n",
            "\n"
          ]
        }
      ]
    }
  ]
}